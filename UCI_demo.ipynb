{
 "cells": [
  {
   "cell_type": "markdown",
   "metadata": {
    "collapsed": true,
    "pycharm": {
     "name": "#%% md\n"
    }
   },
   "source": [
    "# Missing data imputation using optimal transport\n",
    "\n",
    "In this notebook, we will show how to use optimal transport to impute missing values in an incomplete dataset.\n",
    "\n",
    "The methods we will use are described in the following paper:\n",
    "\n",
    "B. Muzellec, J. Josse, C. Boyer, M. Cuturi, [Missing Data Imputation using Optimal Transport](https://arxiv.org/pdf/2002.03860.pdf)."
   ]
  },
  {
   "cell_type": "markdown",
   "metadata": {
    "collapsed": false
   },
   "source": [
    "## Imports and installs"
   ]
  },
  {
   "cell_type": "code",
   "execution_count": 1,
   "metadata": {
    "collapsed": false,
    "pycharm": {
     "name": "#%%\n"
    }
   },
   "outputs": [
    {
     "name": "stdout",
     "output_type": "stream",
     "text": [
      "Requirement already satisfied: pot in /Users/boris/opt/anaconda3/lib/python3.7/site-packages (0.6.0)\r\n",
      "Requirement already satisfied: numpy in /Users/boris/opt/anaconda3/lib/python3.7/site-packages (from pot) (1.18.1)\r\n",
      "Requirement already satisfied: cython in /Users/boris/opt/anaconda3/lib/python3.7/site-packages (from pot) (0.29.15)\r\n",
      "Requirement already satisfied: scipy in /Users/boris/opt/anaconda3/lib/python3.7/site-packages (from pot) (1.4.1)\r\n",
      "Requirement already satisfied: geomloss in /Users/boris/opt/anaconda3/lib/python3.7/site-packages (0.2.3)\r\n",
      "Requirement already satisfied: numpy in /Users/boris/opt/anaconda3/lib/python3.7/site-packages (from geomloss) (1.18.1)\r\n"
     ]
    }
   ],
   "source": [
    "# Ignore this cell if the corresponding packages are already installed\n",
    "\n",
    "!pip install pot\n",
    "!pip install geomloss"
   ]
  },
  {
   "cell_type": "code",
   "execution_count": 2,
   "metadata": {
    "collapsed": false,
    "pycharm": {
     "name": "#%%\n"
    }
   },
   "outputs": [],
   "source": [
    "%matplotlib inline\n",
    "import matplotlib.pyplot as plt\n",
    "\n",
    "import torch\n",
    "import torch.nn as nn\n",
    "import numpy as np\n",
    "\n",
    "from sklearn.preprocessing import scale\n",
    "from sklearn.experimental import enable_iterative_imputer\n",
    "from sklearn.impute import SimpleImputer, IterativeImputer\n",
    "\n",
    "import os\n",
    "\n",
    "from geomloss import SamplesLoss\n",
    "\n",
    "from imputers import OTimputer, RRimputer\n",
    "\n",
    "from utils import *\n",
    "from data_loaders import dataset_loader\n",
    "from softimpute import softimpute, cv_softimpute\n",
    "\n",
    "import logging\n",
    "logger = logging.getLogger()\n",
    "logger.setLevel(logging.INFO)\n",
    "logging.debug(\"test\")\n",
    "\n",
    "torch.set_default_tensor_type('torch.DoubleTensor')"
   ]
  },
  {
   "cell_type": "markdown",
   "metadata": {
    "collapsed": false,
    "pycharm": {
     "name": "#%% md\n"
    }
   },
   "source": [
    "## Data loading\n",
    "\n",
    "The dataset loader utilities assume there is a \"datasets/\" folder in the current directory."
   ]
  },
  {
   "cell_type": "code",
   "execution_count": 4,
   "metadata": {
    "collapsed": false,
    "pycharm": {
     "name": "#%%\n"
    }
   },
   "outputs": [],
   "source": [
    "if not os.path.isdir(\"datasets\"):\n",
    "    os.mkdir(\"datasets\")"
   ]
  },
  {
   "cell_type": "markdown",
   "metadata": {
    "collapsed": false,
    "pycharm": {
     "name": "#%% md\n"
    }
   },
   "source": [
    "Load the data and whiten it.\n",
    "In a real missing data situation, the mean and std would have to be estimated on non-missing data."
   ]
  },
  {
   "cell_type": "code",
   "execution_count": 5,
   "metadata": {
    "collapsed": false,
    "pycharm": {
     "name": "#%%\n"
    }
   },
   "outputs": [],
   "source": [
    "ground_truth = scale(dataset_loader(\"wine\")) # \"wine\" can be replaced with any of the datasets\n",
    "                                             # supported by dataset_loader (see data_loaders.py)\n",
    "\n",
    "X_true = torch.from_numpy(ground_truth)"
   ]
  },
  {
   "cell_type": "code",
   "execution_count": null,
   "metadata": {},
   "outputs": [],
   "source": [
    "%matplotlib inline\n",
    "import matplotlib.pyplot as plt\n",
    "\n",
    "import torch\n",
    "import torch.nn as nn\n",
    "import numpy as np\n",
    "\n",
    "from sklearn.preprocessing import scale\n",
    "from sklearn.experimental import enable_iterative_imputer\n",
    "from sklearn.impute import SimpleImputer, IterativeImputer\n",
    "\n",
    "import os\n",
    "\n",
    "from geomloss import SamplesLoss\n",
    "\n",
    "from imputers import OTimputer, RRimputer\n",
    "\n",
    "from utils import *\n",
    "from data_loaders import dataset_loader\n",
    "from softimpute import softimpute, cv_softimpute\n",
    "\n",
    "import logging\n",
    "logger = logging.getLogger()\n",
    "logger.setLevel(logging.INFO)\n",
    "logging.debug(\"test\")\n",
    "\n",
    "torch.set_default_tensor_type('torch.DoubleTensor')"
   ]
  },
  {
   "cell_type": "code",
   "execution_count": null,
   "metadata": {},
   "outputs": [],
   "source": [
    "%matplotlib inline\n",
    "import matplotlib.pyplot as plt\n",
    "\n",
    "import torch\n",
    "import torch.nn as nn\n",
    "import numpy as np\n",
    "\n",
    "from sklearn.preprocessing import scale\n",
    "from sklearn.experimental import enable_iterative_imputer\n",
    "from sklearn.impute import SimpleImputer, IterativeImputer\n",
    "\n",
    "import os\n",
    "\n",
    "from geomloss import SamplesLoss\n",
    "\n",
    "from imputers import OTimputer, RRimputer\n",
    "\n",
    "from utils import *\n",
    "from data_loaders import dataset_loader\n",
    "from softimpute import softimpute, cv_softimpute\n",
    "\n",
    "import logging\n",
    "logger = logging.getLogger()\n",
    "logger.setLevel(logging.INFO)\n",
    "logging.debug(\"test\")\n",
    "\n",
    "torch.set_default_tensor_type('torch.DoubleTensor')"
   ]
  },
  {
   "cell_type": "code",
   "execution_count": null,
   "metadata": {},
   "outputs": [],
   "source": [
    "%matplotlib inline\n",
    "import matplotlib.pyplot as plt\n",
    "\n",
    "import torch\n",
    "import torch.nn as nn\n",
    "import numpy as np\n",
    "\n",
    "from sklearn.preprocessing import scale\n",
    "from sklearn.experimental import enable_iterative_imputer\n",
    "from sklearn.impute import SimpleImputer, IterativeImputer\n",
    "\n",
    "import os\n",
    "\n",
    "from geomloss import SamplesLoss\n",
    "\n",
    "from imputers import OTimputer, RRimputer\n",
    "\n",
    "from utils import *\n",
    "from data_loaders import dataset_loader\n",
    "from softimpute import softimpute, cv_softimpute\n",
    "\n",
    "import logging\n",
    "logger = logging.getLogger()\n",
    "logger.setLevel(logging.INFO)\n",
    "logging.debug(\"test\")\n",
    "\n",
    "torch.set_default_tensor_type('torch.DoubleTensor')"
   ]
  },
  {
   "cell_type": "code",
   "execution_count": null,
   "metadata": {},
   "outputs": [],
   "source": [
    "%matplotlib inline\n",
    "import matplotlib.pyplot as plt\n",
    "\n",
    "import torch\n",
    "import torch.nn as nn\n",
    "import numpy as np\n",
    "\n",
    "from sklearn.preprocessing import scale\n",
    "from sklearn.experimental import enable_iterative_imputer\n",
    "from sklearn.impute import SimpleImputer, IterativeImputer\n",
    "\n",
    "import os\n",
    "\n",
    "from geomloss import SamplesLoss\n",
    "\n",
    "from imputers import OTimputer, RRimputer\n",
    "\n",
    "from utils import *\n",
    "from data_loaders import dataset_loader\n",
    "from softimpute import softimpute, cv_softimpute\n",
    "\n",
    "import logging\n",
    "logger = logging.getLogger()\n",
    "logger.setLevel(logging.INFO)\n",
    "logging.debug(\"test\")\n",
    "\n",
    "torch.set_default_tensor_type('torch.DoubleTensor')"
   ]
  },
  {
   "cell_type": "code",
   "execution_count": 6,
   "metadata": {},
   "outputs": [
    {
     "name": "stdout",
     "output_type": "stream",
     "text": [
      "数据类型: <class 'numpy.ndarray'>\n",
      "数据形状: (178, 13)\n",
      "数据示例:\n",
      " [[1.423e+01 1.710e+00 2.430e+00 1.560e+01 1.270e+02 2.800e+00 3.060e+00\n",
      "  2.800e-01 2.290e+00 5.640e+00 1.040e+00 3.920e+00 1.065e+03]\n",
      " [1.320e+01 1.780e+00 2.140e+00 1.120e+01 1.000e+02 2.650e+00 2.760e+00\n",
      "  2.600e-01 1.280e+00 4.380e+00 1.050e+00 3.400e+00 1.050e+03]\n",
      " [1.316e+01 2.360e+00 2.670e+00 1.860e+01 1.010e+02 2.800e+00 3.240e+00\n",
      "  3.000e-01 2.810e+00 5.680e+00 1.030e+00 3.170e+00 1.185e+03]\n",
      " [1.437e+01 1.950e+00 2.500e+00 1.680e+01 1.130e+02 3.850e+00 3.490e+00\n",
      "  2.400e-01 2.180e+00 7.800e+00 8.600e-01 3.450e+00 1.480e+03]\n",
      " [1.324e+01 2.590e+00 2.870e+00 2.100e+01 1.180e+02 2.800e+00 2.690e+00\n",
      "  3.900e-01 1.820e+00 4.320e+00 1.040e+00 2.930e+00 7.350e+02]]\n"
     ]
    }
   ],
   "source": [
    "# 查看数据格式\n",
    "data = dataset_loader(\"wine\")\n",
    "print(\"数据类型:\", type(data))\n",
    "print(\"数据形状:\", data.shape)\n",
    "print(\"数据示例:\\n\", data[:5])  # 显示前5行数据"
   ]
  },
  {
   "cell_type": "markdown",
   "metadata": {
    "collapsed": false,
    "pycharm": {
     "name": "#%% md\n"
    }
   },
   "source": [
    "## Missing data generation\n",
    "\n",
    "Let's now simulate missing data. We will assume that the data is missing completely at random (MCAR) with a 50% probability.\n",
    "Additional MAR and MNAR missing data mechanisms are available in utils.py."
   ]
  },
  {
   "cell_type": "code",
   "execution_count": 5,
   "metadata": {
    "collapsed": false,
    "pycharm": {
     "name": "#%%\n"
    }
   },
   "outputs": [],
   "source": [
    "np.random.seed(42)\n",
    "\n",
    "p = 0.5\n",
    "\n",
    "mask = np.random.rand(*ground_truth.shape) < p #True for missing values, false for others\n",
    "x_miss = np.copy(ground_truth)\n",
    "\n",
    "x_miss[mask] = np.nan\n",
    "X_miss = torch.from_numpy(x_miss)"
   ]
  },
  {
   "cell_type": "markdown",
   "metadata": {
    "collapsed": false
   },
   "source": [
    "## Hyperparameters"
   ]
  },
  {
   "cell_type": "code",
   "execution_count": 6,
   "metadata": {
    "collapsed": false,
    "pycharm": {
     "name": "#%%\n"
    }
   },
   "outputs": [],
   "source": [
    "n, d = X_miss.shape\n",
    "batchsize = 128 # If the batch size is larger than half the dataset's size,\n",
    "                # it will be redefined in the imputation methods.\n",
    "lr = 1e-2\n",
    "epsilon = pick_epsilon(X_miss) # Set the regularization parameter as a multiple of the median distance, as per the paper."
   ]
  },
  {
   "cell_type": "markdown",
   "metadata": {
    "collapsed": false,
    "pycharm": {
     "name": "#%% md\n"
    }
   },
   "source": [
    "## Sinkhorn imputation (Algorithm 1)"
   ]
  },
  {
   "cell_type": "code",
   "execution_count": 7,
   "metadata": {
    "collapsed": false,
    "pycharm": {
     "name": "#%%\n"
    }
   },
   "outputs": [],
   "source": [
    "sk_imputer = OTimputer(eps=epsilon, batchsize=batchsize, lr=lr, niter=2000)"
   ]
  },
  {
   "cell_type": "code",
   "execution_count": 8,
   "metadata": {
    "collapsed": false,
    "pycharm": {
     "name": "#%%\n"
    }
   },
   "outputs": [
    {
     "name": "stderr",
     "output_type": "stream",
     "text": [
      "INFO:root:Batchsize larger that half size = 89. Setting batchsize to 64.\n",
      "INFO:root:batchsize = 64, epsilon = 0.2697\n",
      "INFO:root:Iteration 0:\t Loss: 1.5279\t Validation MAE: 0.8615\tRMSE: 1.0539\n",
      "INFO:root:Iteration 500:\t Loss: 1.0651\t Validation MAE: 0.6361\tRMSE: 0.8679\n",
      "INFO:root:Iteration 1000:\t Loss: 0.9501\t Validation MAE: 0.6311\tRMSE: 0.8674\n",
      "INFO:root:Iteration 1500:\t Loss: 1.0874\t Validation MAE: 0.6343\tRMSE: 0.8725\n"
     ]
    }
   ],
   "source": [
    "sk_imp, sk_maes, sk_rmses = sk_imputer.fit_transform(X_miss, verbose=True, report_interval=500, X_true=X_true)"
   ]
  },
  {
   "cell_type": "markdown",
   "metadata": {
    "collapsed": false,
    "pycharm": {
     "name": "#%% md\n"
    }
   },
   "source": [
    "## Round-robin imputation (Algorithm 3)\n",
    "\n",
    "Round-robin imputation models iteratively impute each variable using all the other variables.\n",
    "The imputation is performed according to an optimal transport criterion, as in Algorithm 3 in the paper.\n",
    "Any model can be used to perform the variable imputation. It is even possible to specify one type of model per variable\n",
    "(e.g. predict a variable with a linear model, and an other with an MLP), as long as those models gave trainable parameters.\n",
    "\n",
    "We give here two examples. In the first, variables are predicted using linear models, and in the second using a MLP.\n",
    "\n",
    "Note that even if each variable has an associated model of the same type as the others,\n",
    "those models have distinct sets of parameters."
   ]
  },
  {
   "cell_type": "markdown",
   "metadata": {
    "collapsed": false,
    "pycharm": {
     "name": "#%% md\n"
    }
   },
   "source": [
    "### Linear round-robin"
   ]
  },
  {
   "cell_type": "code",
   "execution_count": 9,
   "metadata": {
    "collapsed": false,
    "pycharm": {
     "name": "#%%\n"
    }
   },
   "outputs": [],
   "source": [
    "#Create the imputation models\n",
    "d_ = d - 1\n",
    "models = {}\n",
    "\n",
    "for i in range(d):\n",
    "    models[i] = nn.Linear(d_, 1)\n",
    "\n",
    "#Create the imputer\n",
    "lin_rr_imputer = RRimputer(models, eps=epsilon, lr=lr)"
   ]
  },
  {
   "cell_type": "code",
   "execution_count": 10,
   "metadata": {
    "collapsed": false,
    "pycharm": {
     "name": "#%%\n"
    }
   },
   "outputs": [
    {
     "name": "stderr",
     "output_type": "stream",
     "text": [
      "INFO:root:Batchsize larger that half size = 89. Setting batchsize to 64.\n",
      "INFO:root:Iteration 0:\t Loss: 1.7705\tValidation MAE: 0.7467\tRMSE:  0.9541\n",
      "INFO:root:Iteration 1:\t Loss: 1.3344\tValidation MAE: 0.7117\tRMSE:  0.9366\n",
      "INFO:root:Iteration 2:\t Loss: 1.3620\tValidation MAE: 0.6858\tRMSE:  0.9108\n",
      "INFO:root:Iteration 3:\t Loss: 1.3318\tValidation MAE: 0.6802\tRMSE:  0.8995\n",
      "INFO:root:Iteration 4:\t Loss: 1.3122\tValidation MAE: 0.6704\tRMSE:  0.8923\n",
      "INFO:root:Iteration 5:\t Loss: 1.2849\tValidation MAE: 0.6709\tRMSE:  0.8933\n",
      "INFO:root:Iteration 6:\t Loss: 1.2932\tValidation MAE: 0.6682\tRMSE:  0.8883\n",
      "INFO:root:Iteration 7:\t Loss: 1.2972\tValidation MAE: 0.6696\tRMSE:  0.8919\n",
      "INFO:root:Iteration 8:\t Loss: 1.3920\tValidation MAE: 0.6676\tRMSE:  0.8886\n",
      "INFO:root:Iteration 9:\t Loss: 1.2369\tValidation MAE: 0.6703\tRMSE:  0.8927\n",
      "INFO:root:Early stopping criterion not reached\n"
     ]
    }
   ],
   "source": [
    "lin_imp, lin_maes, lin_rmses = lin_rr_imputer.fit_transform(X_miss, verbose=True, X_true=X_true)"
   ]
  },
  {
   "cell_type": "markdown",
   "metadata": {
    "collapsed": false,
    "pycharm": {
     "name": "#%% md\n"
    }
   },
   "source": [
    "### MLP round-robin"
   ]
  },
  {
   "cell_type": "code",
   "execution_count": 11,
   "metadata": {
    "collapsed": false,
    "pycharm": {
     "name": "#%%\n"
    }
   },
   "outputs": [],
   "source": [
    "#Create the imputation models\n",
    "d_ = d - 1\n",
    "models = {}\n",
    "\n",
    "for i in range(d):\n",
    "    models[i] = nn.Sequential(nn.Linear(d_, 2 * d_),\n",
    "                              nn.ReLU(),\n",
    "                              nn.Linear(2 * d_, d_),\n",
    "                              nn.ReLU(),\n",
    "                              nn.Linear(d_, 1))\n",
    "\n",
    "#Create the imputer\n",
    "mlp_rr_imputer = RRimputer(models, eps=epsilon, lr=lr)"
   ]
  },
  {
   "cell_type": "code",
   "execution_count": 12,
   "metadata": {
    "collapsed": false,
    "pycharm": {
     "name": "#%%\n"
    }
   },
   "outputs": [
    {
     "name": "stderr",
     "output_type": "stream",
     "text": [
      "INFO:root:Batchsize larger that half size = 89. Setting batchsize to 64.\n",
      "INFO:root:Iteration 0:\t Loss: 1.2783\tValidation MAE: 0.6612\tRMSE:  0.8848\n",
      "INFO:root:Iteration 1:\t Loss: 1.2325\tValidation MAE: 0.6445\tRMSE:  0.8709\n",
      "INFO:root:Iteration 2:\t Loss: 1.3013\tValidation MAE: 0.6438\tRMSE:  0.8773\n",
      "INFO:root:Iteration 3:\t Loss: 1.2987\tValidation MAE: 0.6464\tRMSE:  0.8824\n",
      "INFO:root:Iteration 4:\t Loss: 1.6957\tValidation MAE: 0.6438\tRMSE:  0.8851\n",
      "INFO:root:Iteration 5:\t Loss: 1.2492\tValidation MAE: 0.6536\tRMSE:  0.8967\n",
      "INFO:root:Iteration 6:\t Loss: 1.2932\tValidation MAE: 0.6582\tRMSE:  0.8995\n",
      "INFO:root:Iteration 7:\t Loss: 1.2198\tValidation MAE: 0.6636\tRMSE:  0.9100\n",
      "INFO:root:Iteration 8:\t Loss: 1.2143\tValidation MAE: 0.6684\tRMSE:  0.9153\n",
      "INFO:root:Iteration 9:\t Loss: 1.3173\tValidation MAE: 0.6648\tRMSE:  0.9102\n",
      "INFO:root:Early stopping criterion not reached\n"
     ]
    }
   ],
   "source": [
    "mlp_imp, mlp_maes, mlp_rmses = mlp_rr_imputer.fit_transform(X_miss, verbose=True, X_true=X_true)"
   ]
  },
  {
   "cell_type": "markdown",
   "metadata": {
    "collapsed": false,
    "pycharm": {
     "name": "#%% md\n"
    }
   },
   "source": [
    "## Baselines\n",
    "\n",
    "Let's compare OT imputations to some baselines. As in the paper, we consider the following baselines: (i) mean imputation, (ii) iterated conditional ridge regression and (iii) softimpute."
   ]
  },
  {
   "cell_type": "code",
   "execution_count": 13,
   "metadata": {
    "collapsed": false,
    "pycharm": {
     "name": "#%%\n"
    }
   },
   "outputs": [],
   "source": [
    "# Imputation by the means\n",
    "mean_imp = SimpleImputer().fit_transform(x_miss)\n",
    "mean_mae = MAE(mean_imp, ground_truth, mask)\n",
    "mean_rmse = RMSE(mean_imp, ground_truth, mask)\n",
    "\n",
    "# ICE\n",
    "ice_imp = IterativeImputer(random_state=0, max_iter=50).fit_transform(x_miss)\n",
    "ice_mae = MAE(ice_imp, ground_truth, mask)\n",
    "ice_rmse = RMSE(ice_imp, ground_truth, mask)\n",
    "\n",
    "# Softimpute\n",
    "cv_error, grid_lambda = cv_softimpute(x_miss, grid_len=15)\n",
    "lbda = grid_lambda[np.argmin(cv_error)]\n",
    "soft_imp = softimpute((x_miss), lbda)[1]\n",
    "\n",
    "soft_mae = MAE(soft_imp, ground_truth, mask)\n",
    "soft_rmse = RMSE(soft_imp, ground_truth, mask)"
   ]
  },
  {
   "cell_type": "markdown",
   "metadata": {
    "collapsed": false,
    "pycharm": {
     "name": "#%% md\n"
    }
   },
   "source": [
    "## Comparison plots"
   ]
  },
  {
   "cell_type": "code",
   "execution_count": 16,
   "metadata": {
    "collapsed": false,
    "pycharm": {
     "name": "#%%\n"
    }
   },
   "outputs": [
    {
     "data": {
      "image/png": "[encoded data removed]",
      "text/plain": [
       "<Figure size 432x288 with 1 Axes>"
      ]
     },
     "metadata": {
      "needs_background": "light"
     },
     "output_type": "display_data"
    }
   ],
   "source": [
    "fig, ax = plt.subplots(constrained_layout=True)\n",
    "npoints = len(sk_maes)\n",
    "\n",
    "ax.plot(np.linspace(0, 1, npoints) * npoints, sk_maes, label='Sinkhorn')\n",
    "ax.set_xticks(np.linspace(0, npoints, 6))\n",
    "ax.set_xlabel('# Sinkhorn iterations')\n",
    "\n",
    "ax.hlines(y=mean_mae, xmin=0, xmax=npoints, label=\"Means\", ls = '--', color='black')\n",
    "ax.hlines(y=ice_mae, xmin=0, xmax=npoints, label=\"ICE\", ls = '--', color='m')\n",
    "ax.hlines(y=soft_mae, xmin=0, xmax=npoints, label=\"Softimpute\", ls = '--', color='c')\n",
    "\n",
    "secax = ax.secondary_xaxis('top', functions=(lambda x: x * len(lin_maes) / npoints, lambda x: x * npoints / len(lin_maes)))\n",
    "secax.set_xlabel('# RR iterations')\n",
    "\n",
    "ax.plot(np.linspace(0, 1, len(lin_maes)) * npoints, lin_maes, label='Linear RR')\n",
    "ax.plot(np.linspace(0, 1, len(mlp_maes)) * npoints, mlp_maes, label='MLP RR')\n",
    "\n",
    "ax.set_ylabel('MAE')\n",
    "plt.legend()\n",
    "plt.show()"
   ]
  },
  {
   "cell_type": "code",
   "execution_count": 17,
   "metadata": {
    "collapsed": false,
    "pycharm": {
     "name": "#%%\n"
    }
   },
   "outputs": [
    {
     "data": {
      "image/png": "[encoded data removed]",
      "text/plain": [
       "<Figure size 432x288 with 1 Axes>"
      ]
     },
     "metadata": {
      "needs_background": "light"
     },
     "output_type": "display_data"
    }
   ],
   "source": [
    "fig, ax = plt.subplots(constrained_layout=True)\n",
    "npoints = len(sk_rmses)\n",
    "\n",
    "ax.plot(np.linspace(0, 1, npoints) * npoints, sk_rmses, label='Sinkhorn')\n",
    "ax.set_xticks(np.linspace(0, npoints, 6))\n",
    "ax.set_xlabel('# Sinkhorn iterations')\n",
    "\n",
    "ax.hlines(y=mean_rmse, xmin=0, xmax=npoints, label=\"Means\", ls = '--', color='black')\n",
    "ax.hlines(y=ice_rmse, xmin=0, xmax=npoints, label=\"ICE\", ls = '--', color='m')\n",
    "ax.hlines(y=soft_rmse, xmin=0, xmax=npoints, label=\"Softimpute\", ls = '--', color='c')\n",
    "\n",
    "secax = ax.secondary_xaxis('top', functions=(lambda x: x * len(lin_maes) / npoints, lambda x: x * npoints/ len(lin_maes)))\n",
    "secax.set_xlabel('# RR iterations')\n",
    "\n",
    "ax.plot(np.linspace(0, 1, len(lin_rmses)) * npoints, lin_rmses, label='Linear RR')\n",
    "ax.plot(np.linspace(0, 1, len(mlp_maes)) * npoints, mlp_rmses, label='MLP RR')\n",
    "\n",
    "ax.set_ylabel('RMSE')\n",
    "plt.legend()\n",
    "plt.show()\n",
    "\n",
    "\n",
    "\n"
   ]
  }
 ],
 "metadata": {
  "kernelspec": {
   "display_name": "myenv1",
   "language": "python",
   "name": "python3"
  },
  "language_info": {
   "codemirror_mode": {
    "name": "ipython",
    "version": 3
   },
   "file_extension": ".py",
   "mimetype": "text/x-python",
   "name": "python",
   "nbconvert_exporter": "python",
   "pygments_lexer": "ipython3",
   "version": "3.6.13"
  }
 },
 "nbformat": 4,
 "nbformat_minor": 0
}
